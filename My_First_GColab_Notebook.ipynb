{
  "nbformat": 4,
  "nbformat_minor": 0,
  "metadata": {
    "colab": {
      "provenance": [],
      "authorship_tag": "ABX9TyPUYDIQU3Tk91seXACKXLk/",
      "include_colab_link": true
    },
    "kernelspec": {
      "name": "python3",
      "display_name": "Python 3"
    },
    "language_info": {
      "name": "python"
    }
  },
  "cells": [
    {
      "cell_type": "markdown",
      "metadata": {
        "id": "view-in-github",
        "colab_type": "text"
      },
      "source": [
        "<a href=\"https://colab.research.google.com/github/eric-r-xu/markdown/blob/main/My_First_GColab_Notebook.ipynb\" target=\"_parent\"><img src=\"https://colab.research.google.com/assets/colab-badge.svg\" alt=\"Open In Colab\"/></a>"
      ]
    },
    {
      "cell_type": "markdown",
      "source": [
        "Print hi\n"
      ],
      "metadata": {
        "id": "b4V8dgWoM62c"
      }
    },
    {
      "cell_type": "code",
      "execution_count": null,
      "metadata": {
        "id": "HGRg-Z1flC4a"
      },
      "outputs": [],
      "source": [
        "# prompt: print('hi')\n",
        "\n",
        "print('hi')\n"
      ]
    },
    {
      "cell_type": "markdown",
      "source": [
        "Merge Sort Python Function"
      ],
      "metadata": {
        "id": "ygTlIztJM3ba"
      }
    },
    {
      "cell_type": "code",
      "source": [
        "# prompt: merge sort  python function with example case\n",
        "\n",
        "def merge_sort(arr):\n",
        "    if len(arr) <= 1: # already sorted if length 0 or 1\n",
        "        return arr\n",
        "\n",
        "    mid = len(arr) // 2\n",
        "    left = merge_sort(arr[:mid])\n",
        "    print(f'arr = {arr}, arr[:mid] = {arr[:mid]}')\n",
        "    right = merge_sort(arr[mid:])\n",
        "    print(f'arr = {arr}, arr[mid:] = {arr[mid:]}')\n",
        "\n",
        "\n",
        "    print(f'arr = {arr}, left/right = {left}/{right}')\n",
        "\n",
        "\n",
        "    merged_arr = []\n",
        "    i, j = 0, 0\n",
        "\n",
        "    while i < len(left) and j < len(right):\n",
        "        if left[i] <= right[j]:\n",
        "            merged_arr.append(left[i])\n",
        "            i += 1\n",
        "        else:\n",
        "            merged_arr.append(right[j])\n",
        "            j += 1\n",
        "    print(f'arr = {arr}, i/j = {i}/{j}, left[i:] = {left[i:]}, right[j:] = {right[j:]}')\n",
        "    merged_arr += left[i:]\n",
        "    print(f'arr = {arr}, left[i:]/right[j:] = {left[i:]}/{right[j:]}, merged_arr = {merged_arr}')\n",
        "    merged_arr += right[j:]\n",
        "    print(f'arr = {arr}, left[i:]/right[j:] = {left[i:]}/{right[j:]}, merged_arr = {merged_arr}')\n",
        "\n",
        "\n",
        "\n",
        "    return merged_arr\n",
        "\n",
        "# Example case\n",
        "arr = [10, 7, 8, 9, 1, 5]\n",
        "print(merge_sort(arr))\n"
      ],
      "metadata": {
        "colab": {
          "base_uri": "https://localhost:8080/"
        },
        "id": "D7OEUY89M53p",
        "outputId": "dcf9bec5-08c0-43e5-eae3-b23923b3dfd0"
      },
      "execution_count": null,
      "outputs": [
        {
          "output_type": "stream",
          "name": "stdout",
          "text": [
            "arr = [10, 7, 8], arr[:mid] = [10]\n",
            "arr = [7, 8], arr[:mid] = [7]\n",
            "arr = [7, 8], arr[mid:] = [8]\n",
            "arr = [7, 8], left/right = [7]/[8]\n",
            "arr = [7, 8], i/j = 1/0, left[i:] = [], right[j:] = [8]\n",
            "arr = [7, 8], left[i:]/right[j:] = []/[8], merged_arr = [7]\n",
            "arr = [7, 8], left[i:]/right[j:] = []/[8], merged_arr = [7, 8]\n",
            "arr = [10, 7, 8], arr[mid:] = [7, 8]\n",
            "arr = [10, 7, 8], left/right = [10]/[7, 8]\n",
            "arr = [10, 7, 8], i/j = 0/2, left[i:] = [10], right[j:] = []\n",
            "arr = [10, 7, 8], left[i:]/right[j:] = [10]/[], merged_arr = [7, 8, 10]\n",
            "arr = [10, 7, 8], left[i:]/right[j:] = [10]/[], merged_arr = [7, 8, 10]\n",
            "arr = [10, 7, 8, 9, 1, 5], arr[:mid] = [10, 7, 8]\n",
            "arr = [9, 1, 5], arr[:mid] = [9]\n",
            "arr = [1, 5], arr[:mid] = [1]\n",
            "arr = [1, 5], arr[mid:] = [5]\n",
            "arr = [1, 5], left/right = [1]/[5]\n",
            "arr = [1, 5], i/j = 1/0, left[i:] = [], right[j:] = [5]\n",
            "arr = [1, 5], left[i:]/right[j:] = []/[5], merged_arr = [1]\n",
            "arr = [1, 5], left[i:]/right[j:] = []/[5], merged_arr = [1, 5]\n",
            "arr = [9, 1, 5], arr[mid:] = [1, 5]\n",
            "arr = [9, 1, 5], left/right = [9]/[1, 5]\n",
            "arr = [9, 1, 5], i/j = 0/2, left[i:] = [9], right[j:] = []\n",
            "arr = [9, 1, 5], left[i:]/right[j:] = [9]/[], merged_arr = [1, 5, 9]\n",
            "arr = [9, 1, 5], left[i:]/right[j:] = [9]/[], merged_arr = [1, 5, 9]\n",
            "arr = [10, 7, 8, 9, 1, 5], arr[mid:] = [9, 1, 5]\n",
            "arr = [10, 7, 8, 9, 1, 5], left/right = [7, 8, 10]/[1, 5, 9]\n",
            "arr = [10, 7, 8, 9, 1, 5], i/j = 2/3, left[i:] = [10], right[j:] = []\n",
            "arr = [10, 7, 8, 9, 1, 5], left[i:]/right[j:] = [10]/[], merged_arr = [1, 5, 7, 8, 9, 10]\n",
            "arr = [10, 7, 8, 9, 1, 5], left[i:]/right[j:] = [10]/[], merged_arr = [1, 5, 7, 8, 9, 10]\n",
            "[1, 5, 7, 8, 9, 10]\n"
          ]
        }
      ]
    },
    {
      "cell_type": "markdown",
      "source": [
        "convert from markdown to formatted text"
      ],
      "metadata": {
        "id": "-UGQ8_ywWAqR"
      }
    },
    {
      "cell_type": "code",
      "source": [
        "import re\n",
        "\n",
        "def markdown_to_formatted_text(text):\n",
        "    # Function to apply individual markdown transformations\n",
        "    def apply_formatting(text):\n",
        "        text = re.sub(r'\\*\\*\\*(.*?)\\*\\*\\*', r'\\033[1;3m\\1\\033[0m', text)  # Bold and Italic\n",
        "        text = re.sub(r'\\*\\*(.*?)\\*\\*', r'\\033[1m\\1\\033[0m', text)  # Bold\n",
        "        text = re.sub(r'\\*(.*?)\\*', r'\\033[3m\\1\\033[0m', text)  # Italic\n",
        "        text = re.sub(r'~~(.*?)~~', r'\\033[9m\\1\\033[0m', text)  # Strikethrough\n",
        "        text = re.sub(r'`([^`]*)`', r'\\033[7m\\1\\033[0m', text)  # Inline Code\n",
        "        return text\n",
        "\n",
        "    # Apply formatting to headings\n",
        "    text = re.sub(r'^# (.*)$', r'\\033[1m\\1\\033[0m', text, flags=re.MULTILINE)  # Heading 1\n",
        "    text = re.sub(r'^## (.*)$', r'\\033[4m\\1\\033[0m', text, flags=re.MULTILINE)  # Heading 2\n",
        "    text = re.sub(r'^### (.*)$', r'\\033[4;3m\\1\\033[0m', text, flags=re.MULTILINE)  # Heading 3\n",
        "\n",
        "    # Apply formatting to links and images\n",
        "    text = re.sub(r'\\[([^\\]]+)\\]\\(([^)]+)\\)', r'\\1 (\\2)', text)  # Links\n",
        "    text = re.sub(r'!\\[([^\\]]+)\\]\\(([^)]+)\\)', r'[Image: \\1](\\2)', text)  # Images\n",
        "\n",
        "    # Apply formatting to blockquotes\n",
        "    text = re.sub(r'^> (.*)$', r'\\033[3m\\1\\033[0m', text, flags=re.MULTILINE)  # Blockquotes\n",
        "\n",
        "    # Apply formatting to numbered lists\n",
        "    text = re.sub(r'^(\\d+)\\. (.*?)(?=\\n|$)', lambda m: f\"{m.group(1)}. {apply_formatting(m.group(2))}\", text, flags=re.MULTILINE)\n",
        "\n",
        "    # Apply formatting to the remaining text (for other bold, italic, etc.)\n",
        "    text = apply_formatting(text)\n",
        "\n",
        "    return text\n",
        "\n",
        "markdown_text = \"\"\"\n",
        "DBT, or Data Build Tool, is an open-source command-line tool that helps data analysts and engineers transform data in their data warehouse more effectively. It allows users to write transformations in SQL and then apply them to their raw data to produce clean, transformed data sets that are ready for analysis.\n",
        "\n",
        "Here are some key aspects of DBT:\n",
        "1. **SQL-Based Transformations**: DBT enables the writing of data transformation logic using SQL. Users can create SQL scripts that define the transformations required to clean and structure raw data.\n",
        "2. **Version Control Integration**: It integrates with version control systems like Git, allowing for versioning of transformation scripts, which helps in maintaining and tracking changes to the transformation logic.\n",
        "3. **Data Testing**: DBT includes features for testing data to ensure data quality. Users can write tests to validate the transformed data against certain expectations or rules.\n",
        "4. **Modularity and Reusability**: It promotes modularity by allowing users to create reusable SQL snippets and macros, which can simplify the management of complex transformation logic.\n",
        "5. **Documentation**: DBT automatically generates documentation for the transformation logic, which can be useful for understanding and sharing the transformation processes within a team.\n",
        "6. **Cloud Compatibility**: DBT is compatible with modern cloud data warehouses such as Snowflake, Google BigQuery, and Amazon Redshift, making it a versatile tool for cloud-based data transformation workflows.\n",
        "\n",
        "In summary, DBT is a powerful tool for managing and automating the transformation of data within a data warehouse environment, making it easier for data professionals to prepare data for analysis. For more detailed information, you can visit the official [DBT documentation](https://docs.getdbt.com/).\n",
        "\"\"\"\n",
        "\n",
        "formatted_text = markdown_to_formatted_text(markdown_text)\n",
        "print(formatted_text)"
      ],
      "metadata": {
        "colab": {
          "base_uri": "https://localhost:8080/"
        },
        "id": "tSYuOEv_WEhD",
        "outputId": "fdc2264d-5620-42d3-9b21-477fc1efcc91"
      },
      "execution_count": 42,
      "outputs": [
        {
          "output_type": "stream",
          "name": "stdout",
          "text": [
            "\n",
            "DBT, or Data Build Tool, is an open-source command-line tool that helps data analysts and engineers transform data in their data warehouse more effectively. It allows users to write transformations in SQL and then apply them to their raw data to produce clean, transformed data sets that are ready for analysis.\n",
            "\n",
            "Here are some key aspects of DBT:\n",
            "1. \u001b[1mSQL-Based Transformations\u001b[0m: DBT enables the writing of data transformation logic using SQL. Users can create SQL scripts that define the transformations required to clean and structure raw data.\n",
            "2. \u001b[1mVersion Control Integration\u001b[0m: It integrates with version control systems like Git, allowing for versioning of transformation scripts, which helps in maintaining and tracking changes to the transformation logic.\n",
            "3. \u001b[1mData Testing\u001b[0m: DBT includes features for testing data to ensure data quality. Users can write tests to validate the transformed data against certain expectations or rules.\n",
            "4. \u001b[1mModularity and Reusability\u001b[0m: It promotes modularity by allowing users to create reusable SQL snippets and macros, which can simplify the management of complex transformation logic.\n",
            "5. \u001b[1mDocumentation\u001b[0m: DBT automatically generates documentation for the transformation logic, which can be useful for understanding and sharing the transformation processes within a team.\n",
            "6. \u001b[1mCloud Compatibility\u001b[0m: DBT is compatible with modern cloud data warehouses such as Snowflake, Google BigQuery, and Amazon Redshift, making it a versatile tool for cloud-based data transformation workflows.\n",
            "\n",
            "In summary, DBT is a powerful tool for managing and automating the transformation of data within a data warehouse environment, making it easier for data professionals to prepare data for analysis. For more detailed information, you can visit the official DBT documentation (https://docs.getdbt.com/).\n",
            "\n"
          ]
        }
      ]
    }
  ]
}